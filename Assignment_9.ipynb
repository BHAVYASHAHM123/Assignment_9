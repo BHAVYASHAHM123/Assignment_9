{
  "nbformat": 4,
  "nbformat_minor": 0,
  "metadata": {
    "colab": {
      "name": "Assignment_9.ipynb",
      "provenance": []
    },
    "kernelspec": {
      "name": "python3",
      "display_name": "Python 3"
    },
    "language_info": {
      "name": "python"
    }
  },
  "cells": [
    {
      "cell_type": "code",
      "execution_count": null,
      "metadata": {
        "id": "dXghzZZIE-PI"
      },
      "outputs": [],
      "source": [
        ""
      ]
    },
    {
      "cell_type": "markdown",
      "source": [
        "Q1) In Python 3.X, what are the names and functions of string object types?\n",
        "\n",
        "Ans) \n",
        "isupper()\tReturns True if all characters in the string are upper case\n",
        "join()\tConverts the elements of an iterable into a string\n",
        "ljust()\tReturns a left justified version of the string\n",
        "lower()\tConverts a string into lower case"
      ],
      "metadata": {
        "id": "bHvV2em4FS5X"
      }
    },
    {
      "cell_type": "markdown",
      "source": [
        "Q2) How do the string forms in Python 3.X vary in terms of operations?\n",
        "\n",
        "Ans) \n",
        "splitlines()\tSplit the lines at line boundaries\n",
        "startswith()\tReturns “True” if a string starts with the given prefix\n",
        "strip()\tReturns the string with both leading and trailing characters\n",
        "swapcase()\tConverts all uppercase characters to lowercase and vice versa"
      ],
      "metadata": {
        "id": "lZSGa-2xFk9g"
      }
    },
    {
      "cell_type": "markdown",
      "source": [
        "Q3). In 3.X, how do you put non-ASCII Unicode characters in a string?\n",
        "\n",
        "Ans)  adding a u character prefix before the string literal:"
      ],
      "metadata": {
        "id": "jcw9FoTvFx7K"
      }
    },
    {
      "cell_type": "markdown",
      "source": [
        "Q4). In Python 3.X, what are the key differences between text-mode and binary-mode files?\n",
        "\n",
        "Ans)  In text mode, the program writes data to file as text characters, and in binary mode, the program writes data to files as 0/1 bits."
      ],
      "metadata": {
        "id": "Y-NkSKTwFx94"
      }
    },
    {
      "cell_type": "markdown",
      "source": [
        "Q5). How can you interpret a Unicode text file containing text encoded in a different encoding than your platform's default?\n",
        "\n",
        "Ans) The Unicode Transformation Format (UTF) is a character encoding format which is able to encode all of the possible character code points in Unicode."
      ],
      "metadata": {
        "id": "WicuvMDiFyAg"
      }
    },
    {
      "cell_type": "markdown",
      "source": [
        "Q6). What is the best way to make a Unicode text file in a particular encoding format?\n",
        "\n",
        "Ans) use normal open() and encode the unicode "
      ],
      "metadata": {
        "id": "FYOBuJpPFyC7"
      }
    },
    {
      "cell_type": "markdown",
      "source": [
        "Q7). What qualifies ASCII text as a form of Unicode text?\n",
        "\n",
        "Ans) The first 128 Unicode code points represent the ASCII characters"
      ],
      "metadata": {
        "id": "W_R6uURdFyGU"
      }
    },
    {
      "cell_type": "markdown",
      "source": [
        "Q8). How much of an effect does the change in string types in Python 3.X have on your code?\n",
        "\n",
        "Ans) Strings can be used to handle textual data in Python. Python Strings are immutable sequences of Unicode points."
      ],
      "metadata": {
        "id": "FZClVy3uG2Fk"
      }
    },
    {
      "cell_type": "code",
      "source": [
        ""
      ],
      "metadata": {
        "id": "nwBlW9osHFmK"
      },
      "execution_count": null,
      "outputs": []
    }
  ]
}